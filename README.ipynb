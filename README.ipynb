{
 "cells": [
  {
   "metadata": {},
   "cell_type": "raw",
   "source": [
    "## Prérequis\n",
    "- Python 3.12.7\n",
    "- HashiCorp Vault\n",
    "- SQLite3\n",
    "\n",
    "\n",
    "# Créer un environnement virtuel\n",
    "python -m venv venv\n",
    "\n",
    "# Activer l'environnement virtuel\n",
    "# Sur Windows\n",
    "venv\\Scripts\\activate\n",
    "# Sur Linux/MacOS\n",
    "source venv/bin/activate\n",
    "\n",
    "# Installer les dépendances\n",
    "pip install flask hvac python-dotenv\n",
    "\n",
    "# 2. Configuration de Vault\n",
    "ajoute ça dans fichier ~/.zshrc\n",
    "export VAULT_ADDR='http://127.0.0.1:8200'\n",
    "\n",
    "ajouter les vars\n",
    "\n",
    "# serve vault\n",
    "vault server -dev\n",
    "\n",
    "# ajouter secret dans le vault\n",
    "vault kv put secret/db db_path='ton fichier de db sqllite'\n",
    "\n",
    "# lancer le fichier testvault via ton ide\n"
   ],
   "id": "32dbb12d48980be4"
  }
 ],
 "metadata": {
  "kernelspec": {
   "display_name": "Python 3",
   "language": "python",
   "name": "python3"
  },
  "language_info": {
   "codemirror_mode": {
    "name": "ipython",
    "version": 2
   },
   "file_extension": ".py",
   "mimetype": "text/x-python",
   "name": "python",
   "nbconvert_exporter": "python",
   "pygments_lexer": "ipython2",
   "version": "2.7.6"
  }
 },
 "nbformat": 4,
 "nbformat_minor": 5
}
